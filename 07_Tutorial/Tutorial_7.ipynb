{
  "nbformat": 4,
  "nbformat_minor": 0,
  "metadata": {
    "colab": {
      "provenance": []
    },
    "kernelspec": {
      "name": "python3",
      "display_name": "Python 3"
    },
    "language_info": {
      "name": "python"
    }
  },
  "cells": [
    {
      "cell_type": "markdown",
      "source": [
        "Creating A List"
      ],
      "metadata": {
        "id": "4T2tHsxjLB9p"
      }
    },
    {
      "cell_type": "code",
      "execution_count": null,
      "metadata": {
        "id": "KgOVU42CT4BZ"
      },
      "outputs": [],
      "source": [
        "fruits = [\"apple\", \"banana\", \"cherry\"]"
      ]
    },
    {
      "cell_type": "markdown",
      "source": [
        "Accessing List\n",
        "Elements"
      ],
      "metadata": {
        "id": "9K5ENMBILDxQ"
      }
    },
    {
      "cell_type": "code",
      "source": [
        "fruits = [\"apple\", \"banana\", \"cherry\"]\n",
        "\n",
        "print(fruits[0])  # Output: apple\n",
        "print(fruits[1])  # Output: banana\n",
        "print(fruits[2])  # Output: cherry"
      ],
      "metadata": {
        "id": "nf70SPJIUNzA"
      },
      "execution_count": null,
      "outputs": []
    },
    {
      "cell_type": "markdown",
      "source": [
        "Modifying List\n",
        "Elements"
      ],
      "metadata": {
        "id": "1aBUhYhDLFY9"
      }
    },
    {
      "cell_type": "code",
      "source": [
        "fruits[1] = \"blueberry\"\n",
        "print(fruits)  # Output: ['apple', 'blueberry', 'cherry']"
      ],
      "metadata": {
        "id": "B_zHp-lhUeTS"
      },
      "execution_count": null,
      "outputs": []
    },
    {
      "cell_type": "markdown",
      "source": [
        "Adding and Removing Elements"
      ],
      "metadata": {
        "id": "gExpPMARLG_6"
      }
    },
    {
      "cell_type": "code",
      "source": [
        "# Adding elements\n",
        "fruits.append(\"orange\")  # Adds to the end of the list\n",
        "print(fruits)  # Output: ['apple', 'blueberry', 'cherry', 'orange']\n",
        "\n",
        "fruits.insert(1, \"kiwi\")  # Inserts at index 1\n",
        "print(fruits)  # Output: ['apple', 'kiwi', 'blueberry', 'cherry', 'orange']\n",
        "\n",
        "# Removing elements\n",
        "fruits.remove(\"cherry\")  # Removes the first occurrence of 'cherry'\n",
        "print(fruits)  # Output: ['apple', 'kiwi', 'blueberry', 'orange']\n",
        "\n",
        "popped_fruit = fruits.pop()  # Removes the last item and returns it\n",
        "print(popped_fruit)  # Output: orange\n",
        "print(fruits)  # Output: ['apple', 'kiwi', 'blueberry']"
      ],
      "metadata": {
        "id": "QcGuboiVVEr3"
      },
      "execution_count": null,
      "outputs": []
    },
    {
      "cell_type": "markdown",
      "source": [
        "Common List Methods"
      ],
      "metadata": {
        "id": "Zx0Alf7uLLfo"
      }
    },
    {
      "cell_type": "code",
      "source": [
        "numbers = [5, 2, 9, 1, 5, 6]\n",
        "\n",
        "print(len(numbers))  # Output: 6\n",
        "numbers.sort()\n",
        "print(numbers)  # Output: [1, 2, 5, 5, 6, 9]\n",
        "numbers.reverse()\n",
        "print(numbers)  # Output: [9, 6, 5, 5, 2, 1]\n",
        "print(numbers.count(5))  # Output: 2"
      ],
      "metadata": {
        "id": "KMJd5NK8WBlu"
      },
      "execution_count": null,
      "outputs": []
    },
    {
      "cell_type": "markdown",
      "source": [
        "Create a List: Create a list of your favorite\n",
        "movies and print it."
      ],
      "metadata": {
        "id": "nvxjw7rLLRwb"
      }
    },
    {
      "cell_type": "code",
      "source": [
        "favorite_movies = [\"Inception\", \"The Matrix\", \"Interstellar\"]\n",
        "print(favorite_movies)"
      ],
      "metadata": {
        "id": "jjCD0HxmWMs7"
      },
      "execution_count": null,
      "outputs": []
    },
    {
      "cell_type": "markdown",
      "source": [
        "Modify the List: Add a new movie to your listand remove one movie from it."
      ],
      "metadata": {
        "id": "mkngb1wRLWCM"
      }
    },
    {
      "cell_type": "code",
      "source": [
        "favorite_movies.append(\"The Shawshank Redemption\")\n",
        "favorite_movies.remove(\"The Matrix\")\n",
        "print(favorite_movies)"
      ],
      "metadata": {
        "id": "Z55lBhz-We4Q"
      },
      "execution_count": null,
      "outputs": []
    },
    {
      "cell_type": "markdown",
      "source": [
        "Sort and Reverse: Write a program that sorts\n",
        "a list of numbers and then reverses it."
      ],
      "metadata": {
        "id": "bBsGdexMLXzZ"
      }
    },
    {
      "cell_type": "code",
      "source": [
        "numbers = [3, 1, 4, 1, 5, 9, 2]\n",
        "numbers.sort()\n",
        "numbers.reverse()\n",
        "print(numbers)  # Output: [9, 5, 4, 3, 2, 1, 1]"
      ],
      "metadata": {
        "id": "drop74yCWqLQ"
      },
      "execution_count": null,
      "outputs": []
    },
    {
      "cell_type": "markdown",
      "source": [
        "Count Occurrences: Write a program that\n",
        "counts how many times a specific fruit\n",
        "appears in a list of fruits."
      ],
      "metadata": {
        "id": "BQw2GJXTLZr3"
      }
    },
    {
      "cell_type": "code",
      "source": [
        "fruits = [\"apple\", \"banana\", \"cherry\", \"apple\", \"kiwi\", \"banana\", \"apple\"]\n",
        "fruit_to_count = \"apple\"\n",
        "count = fruits.count(fruit_to_count)\n",
        "print(f\"The fruit '{fruit_to_count}' appears {count} times in the list.\")    # Output: The fruit 'apple' appears 3 times in the list."
      ],
      "metadata": {
        "id": "2LlyXz5mXVte"
      },
      "execution_count": null,
      "outputs": []
    },
    {
      "cell_type": "markdown",
      "source": [
        "List Slicing: Write a program that creates a\n",
        "list of numbers from 1 to 10 and then prints\n",
        "the first five numbers using slicing."
      ],
      "metadata": {
        "id": "uUHnn2MELcfu"
      }
    },
    {
      "cell_type": "code",
      "source": [
        "numbers = list(range(1, 11))  # Creates a list [1, 2, 3, 4, 5, 6, 7, 8, 9, 10]\n",
        "first_five = numbers[:5]  # Slices the first five elements\n",
        "print(first_five)  # Output: [1, 2, 3, 4, 5]"
      ],
      "metadata": {
        "id": "cyyLVVbfXtnJ"
      },
      "execution_count": null,
      "outputs": []
    }
  ]
}