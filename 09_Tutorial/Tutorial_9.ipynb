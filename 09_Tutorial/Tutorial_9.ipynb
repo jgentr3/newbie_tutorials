{
  "nbformat": 4,
  "nbformat_minor": 0,
  "metadata": {
    "colab": {
      "provenance": []
    },
    "kernelspec": {
      "name": "python3",
      "display_name": "Python 3"
    },
    "language_info": {
      "name": "python"
    }
  },
  "cells": [
    {
      "cell_type": "markdown",
      "source": [
        "Understanding Strings\n",
        "\n",
        "---\n",
        "\n",
        "A string is a sequence of characters enclosedin quotes (single, double, or triple quotes).\n",
        "Strings are immutable, meaning they cannot\n",
        "be changed after they are created."
      ],
      "metadata": {
        "id": "51oWngZFMj6g"
      }
    },
    {
      "cell_type": "code",
      "source": [
        "my_string = \"Hello, World!\"\n",
        "print(my_string)  # Output: Hello, World!"
      ],
      "metadata": {
        "id": "8TNgKPLwMVUp"
      },
      "execution_count": null,
      "outputs": []
    },
    {
      "cell_type": "markdown",
      "source": [
        "String Methods"
      ],
      "metadata": {
        "id": "GAr_LTarMs8m"
      }
    },
    {
      "cell_type": "code",
      "source": [
        "text = \"  Hello, Python!  \"\n",
        "print(len(text))          # Output: 15\n",
        "print(text.lower())       # Output: \"  hello, python!  \"\n",
        "print(text.upper())       # Output: \"  HELLO, PYTHON!  \"\n",
        "print(text.strip())       # Output: \"Hello, Python!\"\n",
        "print(text.replace(\"Python\", \"World\"))  # Output: \"  Hello, World!  \"\n",
        "print(text.split(\",\"))    # Output: ['  Hello', ' Python!  ']"
      ],
      "metadata": {
        "id": "JFiXxYL2QUXA"
      },
      "execution_count": null,
      "outputs": []
    },
    {
      "cell_type": "markdown",
      "source": [
        "String Formatting"
      ],
      "metadata": {
        "id": "EpiWCVl-MzWD"
      }
    },
    {
      "cell_type": "code",
      "source": [
        "name = \"Jeff\"\n",
        "age = 42\n",
        "formatted_string = f\"My name is {name} and I am {age} years old.\"\n",
        "print(formatted_string)  # Output: My name is Jeff and I am 42 years old."
      ],
      "metadata": {
        "id": "8-LSvZbuQ8eE"
      },
      "execution_count": null,
      "outputs": []
    },
    {
      "cell_type": "markdown",
      "source": [
        "Using f-strings\n",
        "(Python 3.6+)"
      ],
      "metadata": {
        "id": "e1YnKXQCM1zM"
      }
    },
    {
      "cell_type": "code",
      "source": [
        "formatted_string = \"My name is {} and I am {} years old.\".format(name, age)\n",
        "print(formatted_string)  # Output: My name is Jeff and I am 42 years old."
      ],
      "metadata": {
        "id": "ix6EBbwqRMrW"
      },
      "execution_count": null,
      "outputs": []
    },
    {
      "cell_type": "markdown",
      "source": [
        "Using the “format()”\n",
        "method"
      ],
      "metadata": {
        "id": "XOjO6HFBM3-J"
      }
    },
    {
      "cell_type": "code",
      "source": [
        "formatted_string = \"My name is %s and I am %d years old.\" % (name, age)\n",
        "print(formatted_string)  # Output: My name is Jeff and I am 42 years old."
      ],
      "metadata": {
        "id": "zGnB79XcRjl7"
      },
      "execution_count": null,
      "outputs": []
    },
    {
      "cell_type": "markdown",
      "source": [
        "Using the % operator"
      ],
      "metadata": {
        "id": "AZIXSOYOM52v"
      }
    },
    {
      "cell_type": "code",
      "source": [
        "def reverse_string(s):\n",
        "    return s[::-1]\n",
        "\n",
        "print(reverse_string(\"Hello\"))  # Output: olleH"
      ],
      "metadata": {
        "id": "E7KUYflWRx_9"
      },
      "execution_count": null,
      "outputs": []
    },
    {
      "cell_type": "markdown",
      "source": [
        "Reverse a String: Write a program that\n",
        "reverses a given string."
      ],
      "metadata": {
        "id": "azRAKJ6yM77g"
      }
    },
    {
      "cell_type": "code",
      "source": [
        "def count_vowels(s):\n",
        "    vowels = \"aeiouAEIOU\"\n",
        "    count = sum(1 for char in s if char in vowels)\n",
        "    return count\n",
        "\n",
        "print(count_vowels(\"Hello, World!\"))  # Output: 3"
      ],
      "metadata": {
        "id": "YDqCeTsxR5Le"
      },
      "execution_count": null,
      "outputs": []
    },
    {
      "cell_type": "markdown",
      "source": [
        "Count Vowels: Write a program that counts\n",
        "the number of vowels in a string."
      ],
      "metadata": {
        "id": "IgBeJx2pM95r"
      }
    },
    {
      "cell_type": "code",
      "source": [
        "def is_palindrome(s):\n",
        "    return s == s[::-1]\n",
        "\n",
        "print(is_palindrome(\"racecar\"))  # Output: True\n",
        "print(is_palindrome(\"hello\"))     # Output: False"
      ],
      "metadata": {
        "id": "E301Q0DiSXG6"
      },
      "execution_count": null,
      "outputs": []
    },
    {
      "cell_type": "markdown",
      "source": [
        "Check Palindrome: Write a program that\n",
        "checks if a string is a palindrome (reads the\n",
        "same forwards and backwards)."
      ],
      "metadata": {
        "id": "WvMeUeMyNCVG"
      }
    },
    {
      "cell_type": "code",
      "source": [
        "name = \"Bob\"\n",
        "hobby = \"painting\"\n",
        "sentence = f\"{name} loves {hobby}.\"\n",
        "print(sentence)  # Output: Bob loves painting."
      ],
      "metadata": {
        "id": "9mzQYL1nSgzR"
      },
      "execution_count": null,
      "outputs": []
    },
    {
      "cell_type": "markdown",
      "source": [
        "Format a Sentence: Write a program that\n",
        "formats a sentence using variables."
      ],
      "metadata": {
        "id": "lNqepTN8NGL1"
      }
    },
    {
      "cell_type": "code",
      "source": [
        "def get_initials(full_name):\n",
        "    names = full_name.split()\n",
        "    initials = ''.join([name[0].upper() for name in names])\n",
        "    return initials\n",
        "\n",
        "print(get_initials(\"Alice Johnson \"))  # Output: AJ"
      ],
      "metadata": {
        "id": "6PdNw47KSqPz"
      },
      "execution_count": null,
      "outputs": []
    }
  ]
}