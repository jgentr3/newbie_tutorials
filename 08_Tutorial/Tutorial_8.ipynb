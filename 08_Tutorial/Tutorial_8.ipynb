{
  "nbformat": 4,
  "nbformat_minor": 0,
  "metadata": {
    "colab": {
      "provenance": []
    },
    "kernelspec": {
      "name": "python3",
      "display_name": "Python 3"
    },
    "language_info": {
      "name": "python"
    }
  },
  "cells": [
    {
      "cell_type": "markdown",
      "source": [
        "Creating A Dictionary"
      ],
      "metadata": {
        "id": "9y94YMeeL6A-"
      }
    },
    {
      "cell_type": "code",
      "execution_count": null,
      "metadata": {
        "id": "eYTEkq3UFgyd"
      },
      "outputs": [],
      "source": [
        "person = {\n",
        "    \"name\": \"Jeff\",\n",
        "    \"age\": 42,\n",
        "    \"city\": \"New York\"\n",
        "}"
      ]
    },
    {
      "cell_type": "markdown",
      "source": [
        "Accessing Dictionary\n",
        "Elements"
      ],
      "metadata": {
        "id": "rbhAmyLdL-w_"
      }
    },
    {
      "cell_type": "code",
      "source": [
        "print(person[\"name\"])  # Output: Jeff\n",
        "print(person[\"age\"])   # Output: 42"
      ],
      "metadata": {
        "id": "iFJc57T7GnnP"
      },
      "execution_count": null,
      "outputs": []
    },
    {
      "cell_type": "markdown",
      "source": [
        "Modifying Dictionary\n",
        "Elements"
      ],
      "metadata": {
        "id": "--evagqYMBsC"
      }
    },
    {
      "cell_type": "code",
      "source": [
        "person[\"age\"] = 43\n",
        "print(person)  # Output: {'name': 'Jeff', 'age': 43, 'city': 'New York'}"
      ],
      "metadata": {
        "id": "9shmZx_bG89E"
      },
      "execution_count": null,
      "outputs": []
    },
    {
      "cell_type": "markdown",
      "source": [
        "Adding and Removing Elements"
      ],
      "metadata": {
        "id": "8L7FkI-aMDhs"
      }
    },
    {
      "cell_type": "code",
      "source": [
        "# Adding a new key-value pair\n",
        "person[\"email\"] = \"jeff@example.com\"\n",
        "print(person)  # Output: {'name': 'Jeff', 'age': 43, 'city': 'New York', 'email': 'jeff@example.com'}\n",
        "\n",
        "# Removing a key-value pair\n",
        "del person[\"city\"]\n",
        "print(person)  # Output: {'name': 'Jeff', 'age': 43, 'email': 'jeff@example.com'}\n",
        "\n",
        "# Using pop() to remove and return a value\n",
        "age = person.pop(\"age\")\n",
        "print(age)  # Output: 43\n",
        "print(person)  # Output: {'name': 'Jeff', 'email': 'jeff@example.com'}"
      ],
      "metadata": {
        "id": "iIZZzIeEHaTS"
      },
      "execution_count": null,
      "outputs": []
    },
    {
      "cell_type": "markdown",
      "source": [
        "Common Dictionary\n",
        "Methods"
      ],
      "metadata": {
        "id": "9lxdCJs-MGRO"
      }
    },
    {
      "cell_type": "code",
      "source": [
        "print(len(person))  # Output: 2\n",
        "print(person.keys())  # Output: dict_keys(['name', 'email'])\n",
        "print(person.values())  # Output: dict_values(['Jeff', 'jeff@example.com'])\n",
        "print(person.items())  # Output: dict_items([('name', 'Jeff'), ('email', 'jeff@example.com')])"
      ],
      "metadata": {
        "id": "Nyg2626SIJhe"
      },
      "execution_count": null,
      "outputs": []
    },
    {
      "cell_type": "markdown",
      "source": [
        "Create a Dictionary: Create a dictionary to\n",
        "store information about a book (title, author,year published) and print it."
      ],
      "metadata": {
        "id": "Q-AJT88RMJ2v"
      }
    },
    {
      "cell_type": "code",
      "source": [
        "book = {\n",
        "    \"title\": \"1984\",\n",
        "    \"author\": \"George Orwell\",\n",
        "    \"year\": 1949\n",
        "}\n",
        "print(book)"
      ],
      "metadata": {
        "id": "ydmRtyw0Io9U"
      },
      "execution_count": null,
      "outputs": []
    },
    {
      "cell_type": "markdown",
      "source": [
        "Modify the Dictionary: Add a new key-value\n",
        "pair for the genre of the book and then\n",
        "change the year published."
      ],
      "metadata": {
        "id": "WE6CY7WdMLW_"
      }
    },
    {
      "cell_type": "code",
      "source": [
        "book[\"genre\"] = \"Dystopian\"\n",
        "book[\"year\"] = 1950\n",
        "print(book)"
      ],
      "metadata": {
        "id": "WNJYNKcMI4TI"
      },
      "execution_count": null,
      "outputs": []
    },
    {
      "cell_type": "markdown",
      "source": [
        "Remove a Key-Value Pair: Write a program\n",
        "that removes the author from the book\n",
        "dictionary and prints the updated dictionary."
      ],
      "metadata": {
        "id": "vKHqC0X3MM_g"
      }
    },
    {
      "cell_type": "code",
      "source": [
        "del book[\"author\"]\n",
        "print(book)"
      ],
      "metadata": {
        "id": "Ukwh2m17JFaH"
      },
      "execution_count": null,
      "outputs": []
    },
    {
      "cell_type": "markdown",
      "source": [
        "Count Occurrences: Write a program that\n",
        "counts the occurrences of each character in astring and stores the results in a dictionary."
      ],
      "metadata": {
        "id": "AD2Tez4_MOl3"
      }
    },
    {
      "cell_type": "code",
      "source": [
        "text = \"hello world\"\n",
        "char_count = {}\n",
        "\n",
        "for char in text:\n",
        "    if char in char_count:\n",
        "        char_count[char] += 1\n",
        "    else:\n",
        "        char_count[char] = 1\n",
        "\n",
        "print(char_count)  # Output: {'h': 1, 'e': 1, 'l': 3, 'o': 2, ' ': 1"
      ],
      "metadata": {
        "id": "UaP1qfLvJOdL"
      },
      "execution_count": null,
      "outputs": []
    },
    {
      "cell_type": "markdown",
      "source": [
        "Nested Dictionaries: Create a nested\n",
        "dictionary to store information about\n",
        "multiple students (name, age, and grades)\n",
        "and print the information for each student."
      ],
      "metadata": {
        "id": "rwDl0cFyMQvr"
      }
    },
    {
      "cell_type": "code",
      "source": [
        "students = {\n",
        "    \"student1\": {\n",
        "        \"name\": \"Alice\",\n",
        "        \"age\": 20,\n",
        "        \"grades\": [85, 90, 92]\n",
        "    },\n",
        "    \"student2\": {\n",
        "        \"name\": \"Bob\",\n",
        "        \"age\": 22,\n",
        "        \"grades\": [78, 82, 88]\n",
        "    }\n",
        "}\n",
        "\n",
        "for student_id, info in students.items():\n",
        "    print(f\"{student_id}: Name: {info['name']}, Age: {info['age']}, Grades: {info['grades']}\")"
      ],
      "metadata": {
        "id": "FKL6fs_DJnSO"
      },
      "execution_count": null,
      "outputs": []
    }
  ]
}