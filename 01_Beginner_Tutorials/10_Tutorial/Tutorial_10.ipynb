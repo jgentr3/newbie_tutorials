{
  "nbformat": 4,
  "nbformat_minor": 0,
  "metadata": {
    "colab": {
      "provenance": []
    },
    "kernelspec": {
      "name": "python3",
      "display_name": "Python 3"
    },
    "language_info": {
      "name": "python"
    }
  },
  "cells": [
    {
      "cell_type": "markdown",
      "source": [
        "Opening a File\n",
        "\n",
        "---\n",
        "\n",
        "You will get an error when you try to run thisbecause we don’t currently have a file\n",
        "named example.txt and for now we’ll ignore\n",
        "this."
      ],
      "metadata": {
        "id": "vyq4tEo3NlUQ"
      }
    },
    {
      "cell_type": "code",
      "source": [
        "file = open(\"example.txt\", \"r\")  # Open a file for reading"
      ],
      "metadata": {
        "id": "gsKO1eeBUt9m"
      },
      "execution_count": null,
      "outputs": []
    },
    {
      "cell_type": "markdown",
      "source": [
        "Writing to a File"
      ],
      "metadata": {
        "id": "BAdBXQpjNuX2"
      }
    },
    {
      "cell_type": "code",
      "source": [
        "with open(\"output.txt\", \"w\") as file:\n",
        "    file.write(\"Hello, World!\\n\")\n",
        "    file.write(\"This is a new file.\")"
      ],
      "metadata": {
        "id": "bfh_OAYSVKvq"
      },
      "execution_count": null,
      "outputs": []
    },
    {
      "cell_type": "markdown",
      "source": [
        "Check if the file exists (it will be displayed\n",
        "when you run the code snippet)."
      ],
      "metadata": {
        "id": "9CYWDW79Nw6W"
      }
    },
    {
      "cell_type": "code",
      "source": [
        "import os\n",
        "\n",
        "# List files in the current directory\n",
        "print(os.listdir())"
      ],
      "metadata": {
        "id": "MPdAwF5UVvoE"
      },
      "execution_count": null,
      "outputs": []
    },
    {
      "cell_type": "markdown",
      "source": [
        "Appending to a File"
      ],
      "metadata": {
        "id": "q2rvYsqAN0Eq"
      }
    },
    {
      "cell_type": "code",
      "source": [
        "with open(\"output.txt\", \"a\") as file:\n",
        "    file.write(\"\\nAppending a new line.\")"
      ],
      "metadata": {
        "id": "0QKgixf7WPLG"
      },
      "execution_count": null,
      "outputs": []
    },
    {
      "cell_type": "markdown",
      "source": [
        "Handling Exceptions"
      ],
      "metadata": {
        "id": "uesjiBuBN1iH"
      }
    },
    {
      "cell_type": "code",
      "source": [
        "try:\n",
        "    with open(\"non_existent_file.txt\", \"r\") as file:\n",
        "        content = file.read()\n",
        "except FileNotFoundError:\n",
        "    print(\"The file does not exist.\")"
      ],
      "metadata": {
        "id": "NvmefXnQWwso"
      },
      "execution_count": null,
      "outputs": []
    },
    {
      "cell_type": "markdown",
      "source": [
        "Create and Write to a File: Write a program\n",
        "that creates a file and writes your favorite\n",
        "quotes to it."
      ],
      "metadata": {
        "id": "9c1svRXsN3W4"
      }
    },
    {
      "cell_type": "code",
      "source": [
        "quotes = [\"The only limit to our realization of tomorrow is our doubts of today.\",\n",
        "          \"Life is 10% what happens to us and 90% how we react to it.\"]\n",
        "\n",
        "with open(\"quotes.txt\", \"w\") as file:\n",
        "    for quote in quotes:\n",
        "        file.write(quote + \"\\n\")"
      ],
      "metadata": {
        "id": "M5q4oL0dZoaj"
      },
      "execution_count": null,
      "outputs": []
    },
    {
      "cell_type": "markdown",
      "source": [
        "Read from a File: Write a program that reads\n",
        "the contents of a file and prints each line."
      ],
      "metadata": {
        "id": "yzqrl58HN59_"
      }
    },
    {
      "cell_type": "code",
      "source": [
        "with open(\"quotes.txt\", \"r\") as file:\n",
        "    for line in file:\n",
        "        print(line.strip())"
      ],
      "metadata": {
        "id": "grev7xM7Z0bm"
      },
      "execution_count": null,
      "outputs": []
    },
    {
      "cell_type": "markdown",
      "source": [
        "Count Words in a File: Write a program that\n",
        "counts the number of words in a text file."
      ],
      "metadata": {
        "id": "LYHU_dExN8sw"
      }
    },
    {
      "cell_type": "code",
      "source": [
        "def count_words(filename):\n",
        "    with open(filename, \"r\") as file:\n",
        "        content = file.read()\n",
        "        words = content.split()\n",
        "        return len(words)\n",
        "\n",
        "print(\"Number of words:\", count_words(\"quotes.txt\"))"
      ],
      "metadata": {
        "id": "H8NnsKTqZ-hH"
      },
      "execution_count": null,
      "outputs": []
    },
    {
      "cell_type": "markdown",
      "source": [
        "Copy File Content: Write a program that\n",
        "copies the content of one file to another."
      ],
      "metadata": {
        "id": "-gzb8gHGN-_y"
      }
    },
    {
      "cell_type": "code",
      "source": [
        "with open(\"quotes.txt\", \"r\") as source_file:\n",
        "    with open(\"quotes_copy.txt\", \"w\") as destination_file:\n",
        "        for line in source_file:\n",
        "            destination_file.write(line)"
      ],
      "metadata": {
        "id": "W5FHaqXEaH64"
      },
      "execution_count": null,
      "outputs": []
    },
    {
      "cell_type": "markdown",
      "source": [
        "File Existence Check: Write a program that\n",
        "checks if a file exists before attempting to\n",
        "read it."
      ],
      "metadata": {
        "id": "T211f04LOBGw"
      }
    },
    {
      "cell_type": "code",
      "source": [
        "import os\n",
        "\n",
        "filename = \"quotes.txt\"\n",
        "if os.path.exists(filename):\n",
        "    with open(filename, \"r\") as file:\n",
        "        content = file.read()\n",
        "        print(content)\n",
        "else:\n",
        "    print(\"The file does not exist.\")"
      ],
      "metadata": {
        "id": "PFKU0fm1aTEl"
      },
      "execution_count": null,
      "outputs": []
    }
  ]
}