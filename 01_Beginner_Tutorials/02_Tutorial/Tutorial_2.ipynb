{
  "nbformat": 4,
  "nbformat_minor": 0,
  "metadata": {
    "colab": {
      "provenance": []
    },
    "kernelspec": {
      "name": "python3",
      "display_name": "Python 3"
    },
    "language_info": {
      "name": "python"
    }
  },
  "cells": [
    {
      "cell_type": "markdown",
      "source": [
        "Create Python Variables"
      ],
      "metadata": {
        "id": "l2P4bZaWxgqu"
      }
    },
    {
      "cell_type": "code",
      "execution_count": null,
      "metadata": {
        "id": "UDO9IPaPY7Ho"
      },
      "outputs": [],
      "source": [
        "# Creating a variable\n",
        "name = \"Jeff\"\n",
        "age = 42"
      ]
    },
    {
      "cell_type": "markdown",
      "source": [
        "Python Variable Types"
      ],
      "metadata": {
        "id": "lvR9K68fxuL8"
      }
    },
    {
      "cell_type": "code",
      "source": [
        "# Integer\n",
        "age = 42\n",
        "\n",
        "# Float\n",
        "height = 5.11\n",
        "\n",
        "# String\n",
        "name = \"Jeff\"\n",
        "\n",
        "# Boolean\n",
        "is_student = True\n",
        "\n",
        "# Print the variables\n",
        "print(\"Name:\", name)\n",
        "print(\"Age:\", age)\n",
        "print(\"Height:\", height)\n",
        "print(\"Is Student:\", is_student)"
      ],
      "metadata": {
        "id": "nciENcdQdJeO"
      },
      "execution_count": null,
      "outputs": []
    },
    {
      "cell_type": "markdown",
      "source": [
        "Check Variable Types"
      ],
      "metadata": {
        "id": "saPl9uOTxzLP"
      }
    },
    {
      "cell_type": "code",
      "source": [
        "# Check the type of each variable\n",
        "print(\"Type of age:\", type(age))\n",
        "print(\"Type of height:\", type(height))\n",
        "print(\"Type of name:\", type(name))\n",
        "print(\"Type of is_student:\", type(is_student))"
      ],
      "metadata": {
        "id": "b5oJMc9peQfh"
      },
      "execution_count": null,
      "outputs": []
    },
    {
      "cell_type": "markdown",
      "source": [
        "Basic Operations"
      ],
      "metadata": {
        "id": "67EZy4sux2gM"
      }
    },
    {
      "cell_type": "code",
      "source": [
        "# Arithmetic Operations\n",
        "a = 10\n",
        "b = 5\n",
        "\n",
        "# Addition\n",
        "sum_result = a + b\n",
        "print(\"Sum:\", sum_result)\n",
        "\n",
        "# Subtraction\n",
        "difference = a - b\n",
        "print(\"Difference:\", difference)\n",
        "\n",
        "# Multiplication\n",
        "product = a * b\n",
        "print(\"Product:\", product)\n",
        "\n",
        "# Division\n",
        "quotient = a / b\n",
        "print(\"Quotient:\", quotient)"
      ],
      "metadata": {
        "id": "CUWP7S-OfNBY"
      },
      "execution_count": null,
      "outputs": []
    },
    {
      "cell_type": "markdown",
      "source": [
        "String Concatenation"
      ],
      "metadata": {
        "id": "ZCIJ4JEBx7cq"
      }
    },
    {
      "cell_type": "code",
      "source": [
        "# String Concatenation\n",
        "greeting = \"Hello, \" + name + \"!\"\n",
        "print(greeting)"
      ],
      "metadata": {
        "id": "Jhc9Fvfchak5"
      },
      "execution_count": null,
      "outputs": []
    }
  ]
}