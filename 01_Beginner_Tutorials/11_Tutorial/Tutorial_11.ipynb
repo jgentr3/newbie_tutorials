{
  "nbformat": 4,
  "nbformat_minor": 0,
  "metadata": {
    "colab": {
      "provenance": []
    },
    "kernelspec": {
      "name": "python3",
      "display_name": "Python 3"
    },
    "language_info": {
      "name": "python"
    }
  },
  "cells": [
    {
      "cell_type": "markdown",
      "source": [
        "What are Exceptions?\n",
        "\n",
        "---\n",
        "\n",
        "Run the cell below to see an example of an exception."
      ],
      "metadata": {
        "id": "WYWeMg3qObYz"
      }
    },
    {
      "cell_type": "code",
      "execution_count": null,
      "metadata": {
        "id": "h-NHIyQjbdMT"
      },
      "outputs": [],
      "source": [
        " # This will raise a ZeroDivisionError\n",
        "result = 10 / 0"
      ]
    },
    {
      "cell_type": "markdown",
      "source": [
        "Using “try” and\n",
        "“except”"
      ],
      "metadata": {
        "id": "7rVX0oazOkkB"
      }
    },
    {
      "cell_type": "code",
      "source": [
        "try:\n",
        "    result = 10 / 0\n",
        "except ZeroDivisionError:\n",
        "    print(\"You cannot divide by zero!\")"
      ],
      "metadata": {
        "id": "TW8iAEkEcHwW"
      },
      "execution_count": null,
      "outputs": []
    },
    {
      "cell_type": "markdown",
      "source": [
        "Using “else” and\n",
        "“finally”"
      ],
      "metadata": {
        "id": "eMkHTlDNOnXf"
      }
    },
    {
      "cell_type": "code",
      "source": [
        "try:\n",
        "    result = 10 / 2\n",
        "except ZeroDivisionError:\n",
        "    print(\"You cannot divide by zero!\")\n",
        "else:\n",
        "    print(\"The result is:\", result)\n",
        "finally:\n",
        "    print(\"Execution completed.\")"
      ],
      "metadata": {
        "id": "ZbYyXDHQcpLp"
      },
      "execution_count": null,
      "outputs": []
    },
    {
      "cell_type": "markdown",
      "source": [
        "Raising Exceptions"
      ],
      "metadata": {
        "id": "TSYzXnaSOpOA"
      }
    },
    {
      "cell_type": "code",
      "source": [
        "def check_positive(number):\n",
        "    if number < 0:\n",
        "        raise ValueError(\"The number must be positive.\")\n",
        "\n",
        "try:\n",
        "    check_positive(-5)\n",
        "except ValueError as e:\n",
        "    print(e)  # Output: The number must be positive."
      ],
      "metadata": {
        "id": "8zKotC8Vc24b"
      },
      "execution_count": null,
      "outputs": []
    },
    {
      "cell_type": "markdown",
      "source": [
        "Creating Custom\n",
        "Exceptions"
      ],
      "metadata": {
        "id": "taBMVtmgOsya"
      }
    },
    {
      "cell_type": "code",
      "source": [
        "class CustomError(Exception):\n",
        "    pass\n",
        "\n",
        "def check_value(value):\n",
        "    if value < 0:\n",
        "        raise CustomError(\"Negative value is not allowed.\")\n",
        "\n",
        "try:\n",
        "    check_value(-10)\n",
        "except CustomError as e:\n",
        "    print(e)  # Output: Negative value is not allowed."
      ],
      "metadata": {
        "id": "pcm3NlbIdDh3"
      },
      "execution_count": null,
      "outputs": []
    },
    {
      "cell_type": "markdown",
      "source": [
        "Division with Exception Handling: Write a\n",
        "program that takes two numbers as input\n",
        "and performs division, handling any division\n",
        "by zero errors."
      ],
      "metadata": {
        "id": "36xjKsF2Oup9"
      }
    },
    {
      "cell_type": "code",
      "source": [
        "def divide_numbers(a, b):\n",
        "    try:\n",
        "        return a / b\n",
        "    except ZeroDivisionError:\n",
        "        return \"You cannot divide by zero!\"\n",
        "\n",
        "print(divide_numbers(10, 0))  # Output: You cannot divide by zero!\n",
        "print(divide_numbers(10, 2))  # Output: 5.0"
      ],
      "metadata": {
        "id": "4wAbgCpsdNoE"
      },
      "execution_count": null,
      "outputs": []
    },
    {
      "cell_type": "markdown",
      "source": [
        "Input Validation: Write a program that\n",
        "prompts the user for a number and raises an\n",
        "exception if the input is not a valid integer."
      ],
      "metadata": {
        "id": "ucK8K8KFOwlX"
      }
    },
    {
      "cell_type": "code",
      "source": [
        "def get_integer():\n",
        "    try:\n",
        "        return int(input(\"Enter an integer: \"))\n",
        "    except ValueError:\n",
        "        print(\"That's not a valid integer!\")\n",
        "\n",
        "print(get_integer())  # Prompts user for input"
      ],
      "metadata": {
        "id": "7ExRnHrRdV1M"
      },
      "execution_count": null,
      "outputs": []
    },
    {
      "cell_type": "markdown",
      "source": [
        "File Reading with Exception Handling: Write\n",
        "a program that attempts to read a file and\n",
        "handles the case where the file does not\n",
        "exist."
      ],
      "metadata": {
        "id": "-lIbsIwFOy0W"
      }
    },
    {
      "cell_type": "code",
      "source": [
        "def read_file(filename):\n",
        "    try:\n",
        "        with open(filename, \"r\") as file:\n",
        "            return file.read()\n",
        "    except FileNotFoundError:\n",
        "        return \"File not found.\"\n",
        "\n",
        "print(read_file(\"non_existent_file.txt\"))  # Output: File not found."
      ],
      "metadata": {
        "id": "UrK8veoZdiUZ"
      },
      "execution_count": null,
      "outputs": []
    },
    {
      "cell_type": "markdown",
      "source": [
        "Custom Exception: Create a program that\n",
        "checks if a number is positive and raises a\n",
        "custom exception if it is not."
      ],
      "metadata": {
        "id": "fPxipXVAO2Uy"
      }
    },
    {
      "cell_type": "code",
      "source": [
        "class NegativeNumberError(Exception):\n",
        "    pass\n",
        "\n",
        "def check_positive(num):\n",
        "    if num < 0:\n",
        "        raise NegativeNumberError(\"Number must be positive.\")\n",
        "\n",
        "try:\n",
        "    check_positive(-3)\n",
        "except NegativeNumberError as e print(e)  # Output: Number must be positive."
      ],
      "metadata": {
        "id": "uwf1guSQdqUB"
      },
      "execution_count": null,
      "outputs": []
    },
    {
      "cell_type": "markdown",
      "source": [
        "Multiple Exceptions: Write a program that\n",
        "handles multiple types of exceptions when\n",
        "performing operations."
      ],
      "metadata": {
        "id": "sXWgMLibO3kZ"
      }
    },
    {
      "cell_type": "code",
      "source": [
        "def safe_operation(a, b):\n",
        "    try:\n",
        "        return a / b\n",
        "    except ZeroDivisionError:\n",
        "        return \"You cannot divide by zero!\"\n",
        "    except TypeError:\n",
        "        return \"Invalid input types!\"\n",
        "\n",
        "print(safe_operation(10, 0))  # Output: You cannot divide by zero!\n",
        "print(safe_operation(10, \"a\"))  # Output: Invalid input types!"
      ],
      "metadata": {
        "id": "FEGWIoHceFyU"
      },
      "execution_count": null,
      "outputs": []
    }
  ]
}