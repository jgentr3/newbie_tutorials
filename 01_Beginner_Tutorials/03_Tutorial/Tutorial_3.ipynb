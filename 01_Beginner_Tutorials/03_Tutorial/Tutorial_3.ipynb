{
  "nbformat": 4,
  "nbformat_minor": 0,
  "metadata": {
    "colab": {
      "provenance": []
    },
    "kernelspec": {
      "name": "python3",
      "display_name": "Python 3"
    },
    "language_info": {
      "name": "python"
    }
  },
  "cells": [
    {
      "cell_type": "markdown",
      "source": [
        "Basic Operations"
      ],
      "metadata": {
        "id": "FCs5_TavG1Iz"
      }
    },
    {
      "cell_type": "code",
      "execution_count": null,
      "metadata": {
        "id": "Qw9je9aX7oi9"
      },
      "outputs": [],
      "source": [
        "# Define two numbers\n",
        "a = 10\n",
        "b = 3\n",
        "\n",
        "# Addition\n",
        "sum_result = a + b\n",
        "print(\"Sum:\", sum_result)\n",
        "\n",
        "# Subtraction\n",
        "difference = a - b\n",
        "print(\"Difference:\", difference)\n",
        "\n",
        "# Multiplication\n",
        "product = a * b\n",
        "print(\"Product:\", product)\n",
        "\n",
        "# Division\n",
        "quotient = a / b\n",
        "print(\"Quotient:\", quotient)\n",
        "\n",
        "# Floor Division\n",
        "floor_division = a // b\n",
        "print(\"Floor Division:\", floor_division)\n",
        "\n",
        "# Modulus\n",
        "remainder = a % b\n",
        "print(\"Remainder:\", remainder)\n",
        "\n",
        "# Exponentiation\n",
        "power = a ** b\n",
        "print(\"Power (a^b):\", power)"
      ]
    },
    {
      "cell_type": "markdown",
      "source": [
        "Operator Precedence"
      ],
      "metadata": {
        "id": "GgiM7jVaG9VV"
      }
    },
    {
      "cell_type": "code",
      "source": [
        "# Without parentheses\n",
        "result1 = 10 + 2 * 3\n",
        "print(\"Without parentheses:\", result1)  # Output: 16\n",
        "\n",
        "# With parentheses\n",
        "result2 = (10 + 2) * 3\n",
        "print(\"With parentheses:\", result2)  # Output: 36"
      ],
      "metadata": {
        "id": "4647e9DG90ef"
      },
      "execution_count": null,
      "outputs": []
    },
    {
      "cell_type": "markdown",
      "source": [
        "Basic Calculations\n",
        "\n",
        "---\n",
        "\n",
        "\n",
        "Create two variables,\n",
        "x and y, and perform all basic arithmetic\n",
        "operations on them. Print the results."
      ],
      "metadata": {
        "id": "ygQ579OOHR7e"
      }
    },
    {
      "cell_type": "code",
      "source": [],
      "metadata": {
        "id": "oBkv-7RrHRS-"
      },
      "execution_count": null,
      "outputs": []
    },
    {
      "cell_type": "markdown",
      "source": [
        "Area Of A Rectangle"
      ],
      "metadata": {
        "id": "Q0j9cEe5HA9P"
      }
    },
    {
      "cell_type": "code",
      "source": [
        "# Program to calculate the area of a rectangle\n",
        "\n",
        "# Get user input for length and width\n",
        "length = float(input(\"Enter the length of the rectangle: \"))\n",
        "width = float(input(\"Enter the width of the rectangle: \"))\n",
        "\n",
        "# Calculate the area\n",
        "area = length * width\n",
        "\n",
        "# Print the area\n",
        "print(f\"The area of the rectangle is: {area}\")"
      ],
      "metadata": {
        "id": "pSIRtJ3n_Bhb"
      },
      "execution_count": null,
      "outputs": []
    },
    {
      "cell_type": "markdown",
      "source": [
        "Order Of Operations\n",
        "\n",
        "---\n",
        "\n",
        "Create an\n",
        "expression that uses all types of\n",
        "operations and parentheses. Print the\n",
        "result to see how operator precedence\n",
        "affects the outcome."
      ],
      "metadata": {
        "id": "JPI55rCBHff-"
      }
    },
    {
      "cell_type": "code",
      "source": [],
      "metadata": {
        "id": "W6Xv2UnuHm_a"
      },
      "execution_count": null,
      "outputs": []
    }
  ]
}