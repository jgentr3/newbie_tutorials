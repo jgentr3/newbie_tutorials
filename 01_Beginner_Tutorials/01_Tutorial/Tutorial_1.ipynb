{
  "nbformat": 4,
  "nbformat_minor": 0,
  "metadata": {
    "colab": {
      "provenance": []
    },
    "kernelspec": {
      "name": "python3",
      "display_name": "Python 3"
    },
    "language_info": {
      "name": "python"
    }
  },
  "cells": [
    {
      "cell_type": "markdown",
      "source": [
        "Write Your First Python Code"
      ],
      "metadata": {
        "id": "csX_jh7KmFNR"
      }
    },
    {
      "cell_type": "code",
      "source": [
        "print(\"Hello, World!\")"
      ],
      "metadata": {
        "id": "xfWvs2lZZ-7z"
      },
      "execution_count": null,
      "outputs": []
    },
    {
      "cell_type": "markdown",
      "source": [
        "Experimentation"
      ],
      "metadata": {
        "id": "4bG9wgynmdCi"
      }
    },
    {
      "cell_type": "code",
      "execution_count": null,
      "metadata": {
        "id": "N-yUHneZzYDp"
      },
      "outputs": [],
      "source": [
        "print(\"Welcome to Python programming!\")"
      ]
    },
    {
      "cell_type": "markdown",
      "source": [
        "Add/Edit Print Statements"
      ],
      "metadata": {
        "id": "E5faUKmVr0mJ"
      }
    },
    {
      "cell_type": "code",
      "source": [
        "print(\"Hello, World!\")\n",
        "print(\"This is my first Python program.\")"
      ],
      "metadata": {
        "id": "kLf5WJ8jaHVS"
      },
      "execution_count": null,
      "outputs": []
    }
  ]
}