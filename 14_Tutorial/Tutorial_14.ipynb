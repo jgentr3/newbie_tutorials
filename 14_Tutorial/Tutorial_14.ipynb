{
  "nbformat": 4,
  "nbformat_minor": 0,
  "metadata": {
    "colab": {
      "provenance": []
    },
    "kernelspec": {
      "name": "python3",
      "display_name": "Python 3"
    },
    "language_info": {
      "name": "python"
    }
  },
  "cells": [
    {
      "cell_type": "markdown",
      "source": [
        "Define the Classes\n",
        "\n",
        "---\n",
        "\n",
        "Book Class: This class will represent a book with\n",
        "attributes like title, author, and availability status."
      ],
      "metadata": {
        "id": "L6pwyEBURCFE"
      }
    },
    {
      "cell_type": "code",
      "execution_count": null,
      "metadata": {
        "id": "Il1wDvcg8rSq"
      },
      "outputs": [],
      "source": [
        "class Book:\n",
        "    def __init__(self, title, author):\n",
        "        self.title = title\n",
        "        self.author = author\n",
        "        self.available = True\n",
        "\n",
        "    def __str__(self):\n",
        "        return (f\"{self.title} by {self.author} - \"\n",
        "                f\"{'Available' if self.available else 'Not Available'}\")"
      ]
    },
    {
      "cell_type": "markdown",
      "source": [
        "Library Class: This class will manage the collection of books\n",
        "and provide methods to add, borrow, return, and search for\n",
        "books.\n",
        "\n",
        "---\n",
        "Implement File\n",
        "Handling - Save Books to File:\n",
        "\n",
        "---\n",
        "\n",
        "Load Books from File:\n",
        "\n"
      ],
      "metadata": {
        "id": "iov9oui9RGkq"
      }
    },
    {
      "cell_type": "code",
      "source": [
        "class Library:\n",
        "    def __init__(self):\n",
        "        self.books = []\n",
        "\n",
        "    def add_book(self, book):\n",
        "        self.books.append(book)\n",
        "\n",
        "    def view_books(self):\n",
        "        for book in self.books:\n",
        "            print(book)\n",
        "\n",
        "    def borrow_book(self, title):\n",
        "        for book in self.books:\n",
        "            if book.title == title and book.available:\n",
        "                book.available = False\n",
        "                print(f\"You have borrowed '{title}'.\")\n",
        "                return\n",
        "        print(f\"'{title}' is not available.\")\n",
        "\n",
        "    def return_book(self, title):\n",
        "        for book in self.books:\n",
        "            if book.title == title and not book.available:\n",
        "                book.available = True\n",
        "                print(f\"You have returned '{title}'.\")\n",
        "                return\n",
        "        print(f\"'{title}' was not borrowed.\")\n",
        "\n",
        "    def search_book(self, search_term):\n",
        "        found_books = [\n",
        "        book for book in self.books\n",
        "        if (search_term.lower() in book.title.lower() or\n",
        "            search_term.lower() in book.author.lower())\n",
        "    ]\n",
        "        if found_books:\n",
        "            for book in found_books:\n",
        "                print(book)\n",
        "        else:\n",
        "            print(\"No books found.\")\n",
        "\n",
        "    def save_books(self, filename):\n",
        "      with open(filename, 'w') as file:\n",
        "          for book in self.books:\n",
        "              status = '1' if book.available else '0'\n",
        "              file.write(f\"{book.title},{book.author},{status}\\n\")\n",
        "\n",
        "    def load_books(self, filename):\n",
        "      try:\n",
        "          with open(filename, 'r') as file:\n",
        "              for line in file:\n",
        "                  title, author, status = line.strip().split(',')\n",
        "                  book = Book(title, author)\n",
        "                  book.available = status == '1'\n",
        "                  self.add_book(book)\n",
        "      except FileNotFoundError:\n",
        "          print(\"No previous library data found.\")"
      ],
      "metadata": {
        "id": "bl6hN4mp9zmK"
      },
      "execution_count": null,
      "outputs": []
    },
    {
      "cell_type": "markdown",
      "source": [
        "Create a simple command-line\n",
        "interface to interact with the library management\n",
        "system.\n"
      ],
      "metadata": {
        "id": "RoyCdQ-cRIXo"
      }
    },
    {
      "cell_type": "code",
      "source": [
        "def main():\n",
        "    library = Library()\n",
        "    library.load_books('library.txt')\n",
        "\n",
        "    while True:\n",
        "        print(\"\\nLibrary Management System\")\n",
        "        print(\"1. Add Book\")\n",
        "        print(\"2. View Books\")\n",
        "        print(\"3. Borrow Book\")\n",
        "        print(\"4. Return Book\")\n",
        "        print(\"5. Search Book\")\n",
        "        print(\"6. Save and Exit\")\n",
        "        choice = input(\"Choose an option: \")\n",
        "\n",
        "        if choice == '1':\n",
        "            title = input(\"Enter book title: \")\n",
        "            author = input(\"Enter book author: \")\n",
        "            library.add_book(Book(title, author))\n",
        "            print(f\"Book '{title}' added.\")\n",
        "        elif choice == '2':\n",
        "            library.view_books()\n",
        "        elif choice == '3':\n",
        "            title = input(\"Enter the title of the book to borrow: \")\n",
        "            library.borrow_book(title)\n",
        "        elif choice == '4':\n",
        "            title = input(\"Enter the title of the book to return: \")\n",
        "            library.return_book(title)\n",
        "        elif choice == '5':\n",
        "            search_term = input(\"Enter title or author to search: \")\n",
        "            library.search_book(search_term)\n",
        "        elif choice == '6':\n",
        "            library.save_books('library.txt')\n",
        "            print(\"Library data saved. Exiting...\")\n",
        "            break\n",
        "        else:\n",
        "            print(\"Invalid option. Please try again.\")\n",
        "\n",
        "if __name__ == \"__main__\":\n",
        "    main()"
      ],
      "metadata": {
        "id": "b3c3h-EV_ZZ3"
      },
      "execution_count": null,
      "outputs": []
    }
  ]
}