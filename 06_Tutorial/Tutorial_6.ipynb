{
  "nbformat": 4,
  "nbformat_minor": 0,
  "metadata": {
    "colab": {
      "provenance": []
    },
    "kernelspec": {
      "name": "python3",
      "display_name": "Python 3"
    },
    "language_info": {
      "name": "python"
    }
  },
  "cells": [
    {
      "cell_type": "markdown",
      "source": [
        "Defining A Function"
      ],
      "metadata": {
        "id": "CMXpaZj0KTcA"
      }
    },
    {
      "cell_type": "code",
      "source": [
        "def greet():\n",
        "    print(\"Hello, World!\")"
      ],
      "metadata": {
        "id": "3pp9kCl_J8gQ"
      },
      "execution_count": null,
      "outputs": []
    },
    {
      "cell_type": "markdown",
      "source": [
        "Calling a Function"
      ],
      "metadata": {
        "id": "HOi2MBOyKWjL"
      }
    },
    {
      "cell_type": "code",
      "source": [
        "greet()  # Output: Hello, World!"
      ],
      "metadata": {
        "id": "wACudFiFKYmA"
      },
      "execution_count": null,
      "outputs": []
    },
    {
      "cell_type": "markdown",
      "source": [
        "Function Parameters"
      ],
      "metadata": {
        "id": "JntVTSaIKZWM"
      }
    },
    {
      "cell_type": "code",
      "source": [
        "def greet(name):\n",
        "    print(\"Hello, \" + name + \"!\")\n",
        "\n",
        "greet(\"Alice\")  # Output: Hello, Alice!\n",
        "greet(\"Bob\")    # Output: Hello, Bob!"
      ],
      "metadata": {
        "id": "yaz3jHjyLkav"
      },
      "execution_count": null,
      "outputs": []
    },
    {
      "cell_type": "markdown",
      "source": [
        "Return Values"
      ],
      "metadata": {
        "id": "RbTlD1PAKbP4"
      }
    },
    {
      "cell_type": "code",
      "source": [
        "def add(a, b):\n",
        "    return a + b\n",
        "\n",
        "result = add(5, 3)\n",
        "print(\"Sum:\", result)  # Output: Sum: 8"
      ],
      "metadata": {
        "id": "s4X4K2O7MAxB"
      },
      "execution_count": null,
      "outputs": []
    },
    {
      "cell_type": "markdown",
      "source": [
        "Write a function called “square” that takes a\n",
        "number as a parameter and returns its\n",
        "square."
      ],
      "metadata": {
        "id": "j0T4eAdzKc7x"
      }
    },
    {
      "cell_type": "code",
      "source": [
        "def square(num):\n",
        "    return num ** 2\n",
        "\n",
        "print(square(4))  # Output: 16"
      ],
      "metadata": {
        "id": "qrE23XG9MU5L"
      },
      "execution_count": null,
      "outputs": []
    },
    {
      "cell_type": "markdown",
      "source": [
        "Write a function called “area_of_rectangle”\n",
        "that takes the length and width as\n",
        "parameters and returns the area."
      ],
      "metadata": {
        "id": "enfGn6j0KgLP"
      }
    },
    {
      "cell_type": "code",
      "source": [
        "def area_of_rectangle(length, width):\n",
        "    return length * width\n",
        "\n",
        "print(area_of_rectangle(5, 3))  # Output: 15"
      ],
      "metadata": {
        "id": "oPrA8sceMiTd"
      },
      "execution_count": null,
      "outputs": []
    },
    {
      "cell_type": "markdown",
      "source": [
        "Write a function called is_even that takes a\n",
        "number as a parameter and returns “True” if\n",
        "the number is even, and “False” if it is odd."
      ],
      "metadata": {
        "id": "sQ2sTyl8KkS3"
      }
    },
    {
      "cell_type": "code",
      "source": [
        "def is_even(num):\n",
        "    return num % 2 == 0\n",
        "\n",
        "print(is_even(10))  # Output: True\n",
        "print(is_even(7))   # Output: False"
      ],
      "metadata": {
        "id": "EW1sHgRGM04L"
      },
      "execution_count": null,
      "outputs": []
    },
    {
      "cell_type": "markdown",
      "source": [
        "Write a function called factorial that takes a\n",
        "non-negative integer as a parameter and\n",
        "returns its factorial."
      ],
      "metadata": {
        "id": "rAJSBvSmKmtB"
      }
    },
    {
      "cell_type": "code",
      "source": [
        "def factorial(n):\n",
        "    if n == 0:\n",
        "        return 1\n",
        "    else:\n",
        "        return n * factorial(n - 1)\n",
        "\n",
        "print(factorial(5))  # Output: 120"
      ],
      "metadata": {
        "id": "P7qjDFrjNL_g"
      },
      "execution_count": null,
      "outputs": []
    }
  ]
}