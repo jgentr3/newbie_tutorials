{
  "nbformat": 4,
  "nbformat_minor": 0,
  "metadata": {
    "colab": {
      "provenance": []
    },
    "kernelspec": {
      "name": "python3",
      "display_name": "Python 3"
    },
    "language_info": {
      "name": "python"
    }
  },
  "cells": [
    {
      "cell_type": "markdown",
      "source": [
        "Defining a Class"
      ],
      "metadata": {
        "id": "LpFytGypQZWs"
      }
    },
    {
      "cell_type": "code",
      "execution_count": null,
      "metadata": {
        "id": "wxq-W9Ronu0w"
      },
      "outputs": [],
      "source": [
        "class Dog:\n",
        "    def __init__(self, name, age):\n",
        "        self.name = name  # Attribute\n",
        "        self.age = age    # Attribute\n",
        "\n",
        "    def bark(self):      # Method\n",
        "        return \"Woof!\""
      ]
    },
    {
      "cell_type": "markdown",
      "source": [
        "Creating Objects"
      ],
      "metadata": {
        "id": "q11kG2ZNQaHf"
      }
    },
    {
      "cell_type": "code",
      "source": [
        "my_dog = Dog(\"Buddy\", 3)  # Creating an object of the Dog class\n",
        "print(my_dog.name)         # Output: Buddy\n",
        "print(my_dog.bark())       # Output: Woof!"
      ],
      "metadata": {
        "id": "OWa6Oks72ita"
      },
      "execution_count": null,
      "outputs": []
    },
    {
      "cell_type": "markdown",
      "source": [
        "Inheritance"
      ],
      "metadata": {
        "id": "MLv8Kc0HQfr-"
      }
    },
    {
      "cell_type": "code",
      "source": [
        "class Animal:  # Parent class\n",
        "    def __init__(self, species):\n",
        "        self.species = species\n",
        "\n",
        "    def make_sound(self):\n",
        "        return \"Some sound\"\n",
        "\n",
        "class Cat(Animal):  # Child class\n",
        "    def __init__(self, name, age):\n",
        "        super().__init__(\"Cat\")  # Call the parent class constructor\n",
        "        self.name = name\n",
        "        self.age = age\n",
        "\n",
        "    def make_sound(self):  # Overriding the parent method\n",
        "        return \"Meow!\"\n",
        "\n",
        "my_cat = Cat(\"Whiskers\", 2)\n",
        "print(my_cat.species)      # Output: Cat\n",
        "print(my_cat.make_sound())  # Output: Meow!"
      ],
      "metadata": {
        "id": "7jK0ICHh2zm2"
      },
      "execution_count": null,
      "outputs": []
    },
    {
      "cell_type": "markdown",
      "source": [
        "Encapsulation"
      ],
      "metadata": {
        "id": "Q2drVXxRQhLm"
      }
    },
    {
      "cell_type": "code",
      "source": [
        "class BankAccount:\n",
        "    def __init__(self, balance):\n",
        "        self.__balance = balance  # Private attribute\n",
        "\n",
        "    def deposit(self, amount):\n",
        "        self.__balance += amount\n",
        "\n",
        "    def get_balance(self):\n",
        "        return self.__balance\n",
        "\n",
        "account = BankAccount(1000)\n",
        "account.deposit(500)\n",
        "print(account.get_balance())  # Output: 1500\n",
        "# print(account.__balance)  # This will raise an AttributeError"
      ],
      "metadata": {
        "id": "hBWomzmo3IIj"
      },
      "execution_count": null,
      "outputs": []
    },
    {
      "cell_type": "markdown",
      "source": [
        "Polymorphism"
      ],
      "metadata": {
        "id": "bOFzYOHuQj7B"
      }
    },
    {
      "cell_type": "code",
      "source": [
        "class Bird:\n",
        "    def make_sound(self):\n",
        "        return \"Chirp!\"\n",
        "\n",
        "class Dog:\n",
        "    def make_sound(self):\n",
        "        return \"Woof!\"\n",
        "\n",
        "def animal_sound(animal):\n",
        "    print(animal.make_sound())\n",
        "\n",
        "my_bird = Bird()\n",
        "my_dog = Dog()\n",
        "\n",
        "animal_sound(my_bird)  # Output: Chirp!\n",
        "animal_sound(my_dog)   # Output: Woof!"
      ],
      "metadata": {
        "id": "0rRn0hd93WKM"
      },
      "execution_count": null,
      "outputs": []
    },
    {
      "cell_type": "markdown",
      "source": [
        "Create a Class: Define a class called “Car” with\n",
        "attributes like “make”, “model”, and “year”.\n",
        "Include a method to display the car's information."
      ],
      "metadata": {
        "id": "mvw0q4RCQpr5"
      }
    },
    {
      "cell_type": "code",
      "source": [
        "class Car:\n",
        "    def __init__(self, make, model, year):\n",
        "        self.make = make\n",
        "        self.model = model\n",
        "        self.year = year\n",
        "\n",
        "    def display_info(self):\n",
        "        return f\"{self.year} {self.make} {self.model}\"\n",
        "\n",
        "my_car = Car(\"Toyota\", \"Corolla\", 2020)\n",
        "print(my_car.display_info())  # Output: 2020 Toyota Corolla"
      ],
      "metadata": {
        "id": "MR_FEnzJ3vaU"
      },
      "execution_count": null,
      "outputs": []
    },
    {
      "cell_type": "markdown",
      "source": [
        "Inheritance: Create a class “ElectricCar” that\n",
        "inherits from the “Car” class and adds an attribute\n",
        "for battery size. Include a method to display the\n",
        "battery size."
      ],
      "metadata": {
        "id": "zjY4_ypTQr2-"
      }
    },
    {
      "cell_type": "code",
      "source": [
        "class ElectricCar(Car):\n",
        "    def __init__(self, make, model, year, battery_size):\n",
        "        super().__init__(make, model, year)\n",
        "        self.battery_size = battery_size\n",
        "\n",
        "    def display_battery(self):\n",
        "        return f\"Battery size: {self.battery_size} kWh\"\n",
        "\n",
        "my_electric_car = ElectricCar(\"Tesla\", \"Model S\", 2021, 100)\n",
        "print(my_electric_car.display_info())  # Output: 2021 Tesla Model S\n",
        "print(my_electric_car.display_battery())  # Output: Battery size: 100 kWh"
      ],
      "metadata": {
        "id": "uOOKVhY84LHM"
      },
      "execution_count": null,
      "outputs": []
    },
    {
      "cell_type": "markdown",
      "source": [
        "Encapsulation: Create a class “Person” with private\n",
        "attributes for “name” and “age”. Include methods\n",
        "to set and get these attributes."
      ],
      "metadata": {
        "id": "Vk2ryYpmQt3O"
      }
    },
    {
      "cell_type": "code",
      "source": [
        "class Person:\n",
        "    def __init__(self, name, age):\n",
        "        self.__name = name\n",
        "        self.__age = age\n",
        "\n",
        "    def set_name(self, name):\n",
        "        self.__name = name\n",
        "\n",
        "    def get_name(self):\n",
        "        return self.__name\n",
        "\n",
        "    def set_age(self, age):\n",
        "        self.__age = age\n",
        "\n",
        "    def get_age(self):\n",
        "        return self.__age\n",
        "\n",
        "person = Person(\"Jeff\", 42)\n",
        "print(person.get_name())  # Output: Jeff\n",
        "person.set_age(43)\n",
        "print(person.get_age())  # Output: 43"
      ],
      "metadata": {
        "id": "6kOcNb3S4ZC7"
      },
      "execution_count": null,
      "outputs": []
    },
    {
      "cell_type": "markdown",
      "source": [
        "Polymorphism: Create a function that takes\n",
        "different shapes (like “Circle” and “Square” classes)and calculates their area using polymorphism."
      ],
      "metadata": {
        "id": "5Qntf3dGQvxP"
      }
    },
    {
      "cell_type": "code",
      "source": [
        "class Circle:\n",
        "    def __init__(self, radius):\n",
        "        self.radius = radius\n",
        "\n",
        "    def area(self):\n",
        "        return 3.14 * (self.radius ** 2)\n",
        "\n",
        "class Square:\n",
        "    def __init__(self, side):\n",
        "        self.side = side\n",
        "\n",
        "    def area(self):\n",
        "        return self.side ** 2\n",
        "\n",
        "def print_area(shape):\n",
        "    print(\"Area:\", shape.area())\n",
        "\n",
        "my_circle = Circle(5)\n",
        "my_square = Square(4)\n",
        "\n",
        "print_area(my_circle)  # Output: Area: 78.5\n",
        "print_area(my_square)   # Output: Area: 16"
      ],
      "metadata": {
        "id": "vadVOpOO5A5z"
      },
      "execution_count": null,
      "outputs": []
    },
    {
      "cell_type": "markdown",
      "source": [
        "Create a Simple Banking System: Define a class\n",
        "“Bank” that allows creating accounts, depositing,\n",
        "and withdrawing money. Use encapsulation to\n",
        "protect the balance."
      ],
      "metadata": {
        "id": "SiUA6REZQxpN"
      }
    },
    {
      "cell_type": "code",
      "source": [
        "class Bank:\n",
        "    def __init__(self):\n",
        "        self.__accounts = {}\n",
        "\n",
        "    def create_account(self, account_number):\n",
        "        self.__accounts[account_number] = 0\n",
        "\n",
        "    def deposit(self, account_number, amount):\n",
        "        if account_number in self.__accounts:\n",
        "            self.__accounts[account_number] += amount\n",
        "\n",
        "    def withdraw(self, account_number, amount):\n",
        "        if (account_number in self.__accounts and\n",
        "            self.__accounts[account_number] >= amount):\n",
        "            self.__accounts[account_number] -= amount\n",
        "\n",
        "    def get_balance(self, account_number):\n",
        "        return self.__accounts.get(account_number, \"Account not found\")\n",
        "\n",
        "bank = Bank()\n",
        "bank.create_account(\"12345\")\n",
        "bank.deposit(\"12345\", 500)\n",
        "print(bank.get_balance(\"12345\"))  # Output: 500\n",
        "bank.withdraw(\"12345\", 200)\n",
        "print(bank.get_balance(\"12345\"))  # Output: 300"
      ],
      "metadata": {
        "id": "LSOd-Ls15TVi"
      },
      "execution_count": null,
      "outputs": []
    }
  ]
}