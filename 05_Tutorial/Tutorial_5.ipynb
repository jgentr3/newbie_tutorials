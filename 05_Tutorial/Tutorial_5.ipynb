{
  "nbformat": 4,
  "nbformat_minor": 0,
  "metadata": {
    "colab": {
      "provenance": []
    },
    "kernelspec": {
      "name": "python3",
      "display_name": "Python 3"
    },
    "language_info": {
      "name": "python"
    }
  },
  "cells": [
    {
      "cell_type": "markdown",
      "source": [
        "The \"for\" Loop"
      ],
      "metadata": {
        "id": "xLYfNLrmJrtZ"
      }
    },
    {
      "cell_type": "code",
      "execution_count": null,
      "metadata": {
        "id": "46m7cVA53ugx"
      },
      "outputs": [],
      "source": [
        "# Using a for loop to iterate over a list\n",
        "fruits = [\"apple\", \"banana\", \"cherry\"]\n",
        "\n",
        "for fruit in fruits:\n",
        "    print(fruit)"
      ]
    },
    {
      "cell_type": "markdown",
      "source": [
        "The “range()” Function"
      ],
      "metadata": {
        "id": "8cVihge_Jupq"
      }
    },
    {
      "cell_type": "code",
      "source": [
        "# Using range() to print numbers from 0 to 4\n",
        "for i in range(5):\n",
        "    print(i)"
      ],
      "metadata": {
        "id": "V9xWWuDR44p6"
      },
      "execution_count": null,
      "outputs": []
    },
    {
      "cell_type": "markdown",
      "source": [
        "The “while” Loop"
      ],
      "metadata": {
        "id": "js4i96PyJxBU"
      }
    },
    {
      "cell_type": "code",
      "source": [
        "# Using a while loop to print numbers from 0 to 4\n",
        "count = 0\n",
        "\n",
        "while count < 5:\n",
        "    print(count)\n",
        "    count += 1  # Increment count by 1"
      ],
      "metadata": {
        "id": "T4mb-gK05Ypy"
      },
      "execution_count": null,
      "outputs": []
    },
    {
      "cell_type": "markdown",
      "source": [
        "Breaking Out of Loops"
      ],
      "metadata": {
        "id": "pq_2FNQPJzDm"
      }
    },
    {
      "cell_type": "code",
      "source": [
        "# Using break to exit a loop\n",
        "for i in range(10):\n",
        "    if i == 5:\n",
        "        break  # Exit the loop when i is 5\n",
        "    print(i)"
      ],
      "metadata": {
        "id": "JXndvxua5yb2"
      },
      "execution_count": null,
      "outputs": []
    },
    {
      "cell_type": "markdown",
      "source": [
        "Write a program that uses a “for” loop to\n",
        "print the numbers from 1 to 10."
      ],
      "metadata": {
        "id": "7yRMnwpQJ1M_"
      }
    },
    {
      "cell_type": "code",
      "source": [
        "for i in range(1, 11):\n",
        "    print(i)"
      ],
      "metadata": {
        "id": "Jx3BRXQ76TTG"
      },
      "execution_count": null,
      "outputs": []
    },
    {
      "cell_type": "markdown",
      "source": [
        "Write a program that calculates the sum of\n",
        "numbers from 1 to 100 using a “while” loop."
      ],
      "metadata": {
        "id": "WMegeQ2wJ4D3"
      }
    },
    {
      "cell_type": "code",
      "source": [
        "total = 0\n",
        "count = 1\n",
        "\n",
        "while count <= 100:\n",
        "    total += count\n",
        "    count += 1\n",
        "\n",
        "print(\"Sum:\", total)"
      ],
      "metadata": {
        "id": "0inJ8A4l6j0d"
      },
      "execution_count": null,
      "outputs": []
    },
    {
      "cell_type": "markdown",
      "source": [
        "Write a program that counts down from 10\n",
        "to 1 using a while loop and prints \"Blast off!\"after the countdown."
      ],
      "metadata": {
        "id": "AFdQx6UZJ6aZ"
      }
    },
    {
      "cell_type": "code",
      "source": [
        "countdown = 10\n",
        "\n",
        "while countdown > 0:\n",
        "    print(countdown)\n",
        "    countdown -= 1  # Decrement countdown by 1\n",
        "\n",
        "print(\"Blast off!\")"
      ],
      "metadata": {
        "id": "Q2i7XNZy62Q7"
      },
      "execution_count": null,
      "outputs": []
    },
    {
      "cell_type": "markdown",
      "source": [
        "Write a program that prints all even\n",
        "numbers from 1 to 20 using a “for” loop."
      ],
      "metadata": {
        "id": "qsEQoXAKJ8wS"
      }
    },
    {
      "cell_type": "code",
      "source": [
        "for i in range(1, 21):\n",
        "    if i % 2 == 0:\n",
        "        print(i)"
      ],
      "metadata": {
        "id": "Jzq1lVL6PzRz"
      },
      "execution_count": null,
      "outputs": []
    }
  ]
}