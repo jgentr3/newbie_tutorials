{
  "nbformat": 4,
  "nbformat_minor": 0,
  "metadata": {
    "colab": {
      "provenance": []
    },
    "kernelspec": {
      "name": "python3",
      "display_name": "Python 3"
    },
    "language_info": {
      "name": "python"
    }
  },
  "cells": [
    {
      "cell_type": "markdown",
      "source": [
        "Importing Modules\n",
        "\n",
        "---\n",
        "\n",
        "You can import a module using the import\n",
        "statement. There are several ways to import\n",
        "modules:\n",
        "Importing the entire module"
      ],
      "metadata": {
        "id": "9zdjVd5qPeti"
      }
    },
    {
      "cell_type": "code",
      "execution_count": null,
      "metadata": {
        "id": "NK20mXE3fndp"
      },
      "outputs": [],
      "source": [
        "import math\n",
        "print(math.sqrt(16))  # Output: 4.0"
      ]
    },
    {
      "cell_type": "markdown",
      "source": [
        "Importing specific functions or classes from a\n",
        "module\n"
      ],
      "metadata": {
        "id": "0Ixipt3PPfjC"
      }
    },
    {
      "cell_type": "code",
      "source": [
        "from math import sqrt, pi\n",
        "print(sqrt(25))  # Output: 5.0\n",
        "print(pi)        # Output: 3.141592653589793"
      ],
      "metadata": {
        "id": "fcY9PQ67ghJg"
      },
      "execution_count": null,
      "outputs": []
    },
    {
      "cell_type": "markdown",
      "source": [
        "Importing a module with an alias"
      ],
      "metadata": {
        "id": "Uk-cQHHFPr8v"
      }
    },
    {
      "cell_type": "code",
      "source": [
        "import numpy as np\n",
        "print(np.array([1, 2, 3]))  # Output: [1 2 3]"
      ],
      "metadata": {
        "id": "TkTjvNKsgv-z"
      },
      "execution_count": null,
      "outputs": []
    },
    {
      "cell_type": "markdown",
      "source": [
        "Exploring Commonly\n",
        "Used Standard Libraries\n",
        "\n",
        "---\n",
        "\n",
        "“math”: Provides mathematical functions."
      ],
      "metadata": {
        "id": "jU3t6schPsrC"
      }
    },
    {
      "cell_type": "code",
      "source": [
        "import math\n",
        "print(math.factorial(5))  # Output: 120"
      ],
      "metadata": {
        "id": "g5lU-pTgg-uI"
      },
      "execution_count": null,
      "outputs": []
    },
    {
      "cell_type": "markdown",
      "source": [
        "“random”: Used for generating random\n",
        "numbers."
      ],
      "metadata": {
        "id": "jPSyQ6z1Px6Q"
      }
    },
    {
      "cell_type": "code",
      "source": [
        "import random\n",
        "print(random.randint(1, 10))  # Output: Random integer between 1 and 10"
      ],
      "metadata": {
        "id": "8h7Khm4BhKrg"
      },
      "execution_count": null,
      "outputs": []
    },
    {
      "cell_type": "markdown",
      "source": [
        "“datetime”: Used for manipulating dates andtimes."
      ],
      "metadata": {
        "id": "sgm6u6sXPzY4"
      }
    },
    {
      "cell_type": "code",
      "source": [
        "from datetime import datetime\n",
        "now = datetime.now()\n",
        "print(now)  # Output: Current date and time"
      ],
      "metadata": {
        "id": "oDUih2bjiSAN"
      },
      "execution_count": null,
      "outputs": []
    },
    {
      "cell_type": "markdown",
      "source": [
        "“os”: Provides functions for interacting with\n",
        "the operating system."
      ],
      "metadata": {
        "id": "smAaqIJYP1TE"
      }
    },
    {
      "cell_type": "code",
      "source": [
        "import os\n",
        "print(os.getcwd())  # Output: Current working directory"
      ],
      "metadata": {
        "id": "3SnP23Iqihvb"
      },
      "execution_count": null,
      "outputs": []
    },
    {
      "cell_type": "markdown",
      "source": [
        "“sys”: Provides access to system-specific\n",
        "parameters and functions."
      ],
      "metadata": {
        "id": "hcDY20etP25i"
      }
    },
    {
      "cell_type": "code",
      "source": [
        "import sys\n",
        "print(sys.version)  # Output: Python version"
      ],
      "metadata": {
        "id": "6jArNAH9irrd"
      },
      "execution_count": null,
      "outputs": []
    },
    {
      "cell_type": "markdown",
      "source": [
        "Creating Your Own\n",
        "Module\n",
        "\n",
        "---\n",
        "You can create your own module by saving a\n",
        "Python file with a “.py” extension. For\n",
        "example, create a file named\n",
        "“mymodule.py” with the following content:\n"
      ],
      "metadata": {
        "id": "0L4WXMzXP4xD"
      }
    },
    {
      "cell_type": "code",
      "source": [
        "# Define the contents of the file\n",
        "file_contents = \"\"\"def greet(name):\n",
        "    return f\"Hello, {name}!\"\n",
        "\n",
        "def add(a, b):\n",
        "    return a + b\n",
        "\"\"\"\n",
        "\n",
        "# Create and write to the file\n",
        "with open(\"mymodule.py\", \"w\") as file:\n",
        "    file.write(file_contents)"
      ],
      "metadata": {
        "id": "6elqF87Yi8XX"
      },
      "execution_count": null,
      "outputs": []
    },
    {
      "cell_type": "markdown",
      "source": [
        "You can then import and use this module in\n",
        "another Python file:"
      ],
      "metadata": {
        "id": "jVy42xyTP-2v"
      }
    },
    {
      "cell_type": "code",
      "source": [
        "import mymodule\n",
        "\n",
        "print(mymodule.greet(\"Jeff\"))  # Output: Hello, Jeff!\n",
        "print(mymodule.add(5, 3))        # Output: 8"
      ],
      "metadata": {
        "id": "BUQbdcFfjOFY"
      },
      "execution_count": null,
      "outputs": []
    },
    {
      "cell_type": "markdown",
      "source": [
        "Using the “math” Module: Write a program\n",
        "that calculates the area of a circle using the\n",
        "“math” module."
      ],
      "metadata": {
        "id": "6zOq4NZqQBbR"
      }
    },
    {
      "cell_type": "code",
      "source": [
        "import math\n",
        "\n",
        "def area_of_circle(radius):\n",
        "    return math.pi * (radius ** 2)\n",
        "\n",
        "print(area_of_circle(5))  # Output: Area of the circle"
      ],
      "metadata": {
        "id": "bNrrZMvwk4Uh"
      },
      "execution_count": null,
      "outputs": []
    },
    {
      "cell_type": "markdown",
      "source": [
        "Random Number Generator: Write a\n",
        "program that generates a random float\n",
        "between 0 and 1 using the “random”\n",
        "module."
      ],
      "metadata": {
        "id": "WNdHa-JMQDfK"
      }
    },
    {
      "cell_type": "code",
      "source": [
        "import random\n",
        "\n",
        "random_float = random.random()\n",
        "print(random_float)  # Output: Random float between 0 and 1"
      ],
      "metadata": {
        "id": "sCxdt7HLlChQ"
      },
      "execution_count": null,
      "outputs": []
    },
    {
      "cell_type": "markdown",
      "source": [
        "Current Date and Time: Write a program thatprints the current date and time using the\n",
        "“datetime” module."
      ],
      "metadata": {
        "id": "WIIChZfZQFJe"
      }
    },
    {
      "cell_type": "code",
      "source": [
        "from datetime import datetime\n",
        "\n",
        "now = datetime.now()\n",
        "print(\"Current date and time:\", now)"
      ],
      "metadata": {
        "id": "8zDm1L-BlgK0"
      },
      "execution_count": null,
      "outputs": []
    },
    {
      "cell_type": "markdown",
      "source": [
        "List Files in a Directory: Write a program that\n",
        "lists all files in the current directory using theos module."
      ],
      "metadata": {
        "id": "G0rYAO4wQGwl"
      }
    },
    {
      "cell_type": "code",
      "source": [
        "import os\n",
        "\n",
        "files = os.listdir('.')\n",
        "print(\"Files in current directory:\", files)"
      ],
      "metadata": {
        "id": "d7sekgH4lk-k"
      },
      "execution_count": null,
      "outputs": []
    },
    {
      "cell_type": "markdown",
      "source": [
        "System Information: Write a program that\n",
        "prints the Python version and the platform\n",
        "```python import sys"
      ],
      "metadata": {
        "id": "Eb0B7jeXQItG"
      }
    },
    {
      "cell_type": "code",
      "source": [
        "import sys\n",
        "\n",
        "# Print the Python version\n",
        "print(\"Python version:\", sys.version)\n",
        "\n",
        "# Print the platform\n",
        "print(\"Platform:\", sys.platform)"
      ],
      "metadata": {
        "id": "WS_4Xpell7-h"
      },
      "execution_count": null,
      "outputs": []
    }
  ]
}